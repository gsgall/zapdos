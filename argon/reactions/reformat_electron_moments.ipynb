{
 "cells": [
  {
   "cell_type": "code",
   "execution_count": 20,
   "metadata": {},
   "outputs": [],
   "source": [
    "import numpy as np\n",
    "import astropy.units as u\n",
    "from astropy.constants import N_A\n",
    "from astropy.constants import R\n",
    "\n",
    "T = 300 * u.K\n",
    "P = 133.322 * u.Pa\n",
    "P_atm = 101325 * u.Pa\n"
   ]
  },
  {
   "cell_type": "code",
   "execution_count": 21,
   "metadata": {},
   "outputs": [],
   "source": [
    "N_1Torr = P / (R * T) * N_A\n",
    "N_atm = P_atm / (R * T) * N_A\n"
   ]
  },
  {
   "cell_type": "code",
   "execution_count": 19,
   "metadata": {},
   "outputs": [],
   "source": [
    "moments = np.loadtxt(\"electron_moments_test_1Torr.txt\")\n",
    "\n",
    "moments[:, 1:] = moments[:, 1:] * N_1Torr / N_atm\n",
    "\n",
    "np.savetxt(\"electron_moments_test.txt\", moments)\n"
   ]
  }
 ],
 "metadata": {
  "kernelspec": {
   "display_name": "hw",
   "language": "python",
   "name": "python3"
  },
  "language_info": {
   "codemirror_mode": {
    "name": "ipython",
    "version": 3
   },
   "file_extension": ".py",
   "mimetype": "text/x-python",
   "name": "python",
   "nbconvert_exporter": "python",
   "pygments_lexer": "ipython3",
   "version": "3.11.5"
  }
 },
 "nbformat": 4,
 "nbformat_minor": 2
}
