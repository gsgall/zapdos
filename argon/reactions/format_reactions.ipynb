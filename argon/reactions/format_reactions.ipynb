{
 "cells": [
  {
   "cell_type": "code",
   "execution_count": 106,
   "metadata": {},
   "outputs": [
    {
     "name": "stdout",
     "output_type": "stream",
     "text": [
      "  Name   = Avogadro's number\n",
      "  Value  = 6.02214076e+23\n",
      "  Uncertainty  = 0.0\n",
      "  Unit  = 1 / mol\n",
      "  Reference = CODATA 2018\n"
     ]
    }
   ],
   "source": [
    "import numpy as np\n",
    "from astropy.constants import N_A\n",
    "print(N_A)\n"
   ]
  },
  {
   "cell_type": "code",
   "execution_count": 117,
   "metadata": {},
   "outputs": [
    {
     "name": "stdout",
     "output_type": "stream",
     "text": [
      "em + Ar -> em + Ar\n",
      "em + Ar -> em + Ar*\n",
      "em + Ar -> em + em + Ar+\n",
      "em + Ar* -> em + em + Ar+\n"
     ]
    }
   ],
   "source": [
    "reactions = [\n",
    "    \"em + Ar -> em + Ar\",\n",
    "    \"em + Ar -> em + Ar*\",\n",
    "    \"em + Ar -> em + em + Ar+\",\n",
    "    \"em + Ar* -> em + em + Ar+\",\n",
    "]\n",
    "\n",
    "with open(\"argon_out.dat\", \"r\") as f:\n",
    "    text = f.read()\n",
    "    start_idx = text.find(\"C1    Ar\")\n",
    "    end_idx = text.find(\"Energy (eV)\tInelastic energy loss coefficient (eV m3/s)\")\n",
    "\n",
    "    # print(start_idx)\n",
    "    # print(end_idx)\n",
    "\n",
    "    all_rates = text[start_idx:end_idx]\n",
    "    # print(all_rates)\n",
    "    # split by the CN characters\n",
    "    singles = all_rates.split(\"C\")\n",
    "\n",
    "    singles = singles[1:]\n",
    "    for i, rate in enumerate(singles):\n",
    "        print(reactions[i])\n",
    "\n",
    "        with open(\"reaction_\" + reactions[i] + \".txt\", \"w\") as f2:\n",
    "            # remove all of the tab characters\n",
    "            rate = rate.replace(\"\\t\", \" \")\n",
    "            lines = rate.split(\"\\n\")\n",
    "            # remove all of the extra at the end\n",
    "            lines = lines[2:-3]\n",
    "\n",
    "            for j, line in enumerate(lines):\n",
    "                if j == 0:\n",
    "                    continue\n",
    "                temp = line[:].split(\" \")\n",
    "                if len(temp[0]) == 0 or len(temp[1]) == 0:\n",
    "                    continue\n",
    "                vals = [float(i) for i in temp]\n",
    "\n",
    "                # vals[1] *= N_A.valuex\n",
    "                f2.write(f\"{vals[0]:0.5E} {vals[1] * N_A.value:0.5E}\\n\")\n",
    "            # vals = [float(i) for i in lines]\n",
    "            # print(float(lines[-1]))\n"
   ]
  }
 ],
 "metadata": {
  "kernelspec": {
   "display_name": "hw",
   "language": "python",
   "name": "python3"
  },
  "language_info": {
   "codemirror_mode": {
    "name": "ipython",
    "version": 3
   },
   "file_extension": ".py",
   "mimetype": "text/x-python",
   "name": "python",
   "nbconvert_exporter": "python",
   "pygments_lexer": "ipython3",
   "version": "3.11.5"
  }
 },
 "nbformat": 4,
 "nbformat_minor": 2
}
